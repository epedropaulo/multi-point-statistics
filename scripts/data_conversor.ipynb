{
 "cells": [
  {
   "cell_type": "code",
   "execution_count": 1,
   "id": "7d834252",
   "metadata": {},
   "outputs": [],
   "source": [
    "import sys\n",
    "import os\n",
    "\n",
    "project_root = os.path.abspath(os.path.join(os.getcwd(), '..'))\n",
    "sys.path.insert(0, project_root)"
   ]
  },
  {
   "cell_type": "code",
   "execution_count": 2,
   "id": "5fabc786",
   "metadata": {},
   "outputs": [
    {
     "name": "stderr",
     "output_type": "stream",
     "text": [
      "/home/pedro2/.local/lib/python3.10/site-packages/matplotlib/projections/__init__.py:63: UserWarning: Unable to import Axes3D. This may be due to multiple versions of Matplotlib being installed (e.g. as a system package and as a pip package). As a result, the 3D projection is not available.\n",
      "  warnings.warn(\"Unable to import Axes3D. This may be due to multiple versions of \"\n"
     ]
    }
   ],
   "source": [
    "import pandas as pd\n",
    "import numpy as np\n",
    "import mpslib as mps\n",
    "import matplotlib.pyplot as plt\n",
    "\n",
    "from scripts.utils import load_binary_from_eleven_sandstones\n",
    "from scripts.ti_saver import save_binary_as_ti_and_npy"
   ]
  },
  {
   "cell_type": "code",
   "execution_count": 3,
   "id": "141e76d6",
   "metadata": {},
   "outputs": [
    {
     "name": "stdout",
     "output_type": "stream",
     "text": [
      "✅ Saved as .dat: ../data/eas/Parker_binary_0.dat\n",
      "✅ Saved as .npy: ../data/eas/Parker_binary_0_transformed.npy\n",
      "   Shape: (499, 499, 4), Type: float64\n",
      "✅ Saved as .dat: ../data/eas/Parker_binary_1.dat\n",
      "✅ Saved as .npy: ../data/eas/Parker_binary_1_transformed.npy\n",
      "   Shape: (499, 499, 4), Type: float64\n",
      "✅ Saved as .dat: ../data/eas/Parker_binary_2.dat\n",
      "✅ Saved as .npy: ../data/eas/Parker_binary_2_transformed.npy\n",
      "   Shape: (499, 499, 4), Type: float64\n",
      "✅ Saved as .dat: ../data/eas/Parker_binary_3.dat\n",
      "✅ Saved as .npy: ../data/eas/Parker_binary_3_transformed.npy\n",
      "   Shape: (499, 499, 4), Type: float64\n",
      "✅ Saved as .dat: ../data/eas/Parker_binary_4.dat\n",
      "✅ Saved as .npy: ../data/eas/Parker_binary_4_transformed.npy\n",
      "   Shape: (499, 499, 4), Type: float64\n"
     ]
    }
   ],
   "source": [
    "# Loading data\n",
    "\n",
    "data_dir = project_root + \"/data\"\n",
    "data_paths = [data for data in os.listdir(data_dir) if data.endswith(\".raw\")]\n",
    "binary_path = data_paths[2]\n",
    "\n",
    "# Load the binary data using the existing function\n",
    "binary_data = load_binary_from_eleven_sandstones(os.path.join(data_dir, binary_path))\n",
    "\n",
    "# Save each slice in both .dat and .npy formats\n",
    "for i, data_slice in enumerate(binary_data[:5]):  # First 5 slices\n",
    "    output_path = f\"../data/eas/Parker_binary_{i}\"\n",
    "    \n",
    "    # This saves both .dat and .npy files\n",
    "    dat_path, npy_path, npy_trasnformed_path = save_binary_as_ti_and_npy(data_slice, output_path)"
   ]
  },
  {
   "cell_type": "markdown",
   "id": "9d63824a",
   "metadata": {},
   "source": [
    "The inspiration to this treatment for the data is the strebelle example used in ex01_mpslib_getting_started"
   ]
  }
 ],
 "metadata": {
  "kernelspec": {
   "display_name": "Python 3",
   "language": "python",
   "name": "python3"
  },
  "language_info": {
   "codemirror_mode": {
    "name": "ipython",
    "version": 3
   },
   "file_extension": ".py",
   "mimetype": "text/x-python",
   "name": "python",
   "nbconvert_exporter": "python",
   "pygments_lexer": "ipython3",
   "version": "3.10.12"
  }
 },
 "nbformat": 4,
 "nbformat_minor": 5
}
