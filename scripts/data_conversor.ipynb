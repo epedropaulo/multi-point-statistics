{
 "cells": [
  {
   "cell_type": "code",
   "execution_count": 1,
   "id": "7d834252",
   "metadata": {},
   "outputs": [],
   "source": [
    "import sys\n",
    "import os\n",
    "\n",
    "project_root = os.path.abspath(os.path.join(os.getcwd(), '..'))\n",
    "sys.path.insert(0, project_root)"
   ]
  },
  {
   "cell_type": "code",
   "execution_count": 15,
   "id": "5fabc786",
   "metadata": {},
   "outputs": [],
   "source": [
    "import pandas as pd\n",
    "import numpy as np\n",
    "import mpslib as mps\n",
    "\n",
    "from scripts.utils import load_binary_from_eleven_sandstones"
   ]
  },
  {
   "cell_type": "code",
   "execution_count": 8,
   "id": "141e76d6",
   "metadata": {},
   "outputs": [],
   "source": [
    "# Loading data\n",
    "\n",
    "data_dir = project_root + \"/data\"\n",
    "data_paths = [data for data in os.listdir(data_dir) if data.endswith(\".raw\")]\n",
    "data_dict = {name[:-4]: load_binary_from_eleven_sandstones(data_dir + \"/\" + name) for name in data_paths}\n",
    "data_names = list(data_dict.keys())"
   ]
  },
  {
   "cell_type": "code",
   "execution_count": 10,
   "id": "53b84a6b",
   "metadata": {},
   "outputs": [
    {
     "data": {
      "text/plain": [
       "['Parker_2d25um_grayscale_filtered',\n",
       " 'Parker_2d25um_grayscale',\n",
       " 'Parker_2d25um_binary']"
      ]
     },
     "execution_count": 10,
     "metadata": {},
     "output_type": "execute_result"
    }
   ],
   "source": [
    "data_names"
   ]
  },
  {
   "cell_type": "code",
   "execution_count": 19,
   "id": "da9b5699",
   "metadata": {},
   "outputs": [],
   "source": [
    "binary = data_names[-1]\n",
    "for i, data in enumerate(data_dict[binary]):\n",
    "    mps.eas.write(filename=f\"../data/eas/Parker_binary_{i}.eas\", D=data, header=f\"Parker_binary_{i}\")"
   ]
  }
 ],
 "metadata": {
  "kernelspec": {
   "display_name": "Python 3",
   "language": "python",
   "name": "python3"
  },
  "language_info": {
   "codemirror_mode": {
    "name": "ipython",
    "version": 3
   },
   "file_extension": ".py",
   "mimetype": "text/x-python",
   "name": "python",
   "nbconvert_exporter": "python",
   "pygments_lexer": "ipython3",
   "version": "3.10.12"
  }
 },
 "nbformat": 4,
 "nbformat_minor": 5
}
