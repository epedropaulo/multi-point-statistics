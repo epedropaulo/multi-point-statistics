{
 "cells": [
  {
   "cell_type": "code",
   "execution_count": 5,
   "id": "7d834252",
   "metadata": {},
   "outputs": [],
   "source": [
    "import sys\n",
    "import os\n",
    "\n",
    "project_root = os.path.abspath(os.path.join(os.getcwd(), '..'))\n",
    "sys.path.insert(0, project_root)"
   ]
  },
  {
   "cell_type": "code",
   "execution_count": 6,
   "id": "5fabc786",
   "metadata": {},
   "outputs": [],
   "source": [
    "import pandas as pd\n",
    "import numpy as np\n",
    "import mpslib as mps\n",
    "import matplotlib.pyplot as plt\n",
    "\n",
    "from scripts.utils import load_binary_from_eleven_sandstones\n",
    "from scripts.ti_saver import save_binary_as_ti_and_npy"
   ]
  },
  {
   "cell_type": "code",
   "execution_count": 7,
   "id": "141e76d6",
   "metadata": {},
   "outputs": [],
   "source": [
    "# Loading data\n",
    "\n",
    "data_dir = project_root + \"/data\"\n",
    "data_paths = [data for data in os.listdir(data_dir) if data.endswith(\".raw\")]\n",
    "binary_path = data_paths[2]\n",
    "\n",
    "# Load the binary data using the existing function\n",
    "binary_data = load_binary_from_eleven_sandstones(os.path.join(data_dir, binary_path))"
   ]
  },
  {
   "cell_type": "code",
   "execution_count": 10,
   "id": "189385d9",
   "metadata": {},
   "outputs": [
    {
     "name": "stdout",
     "output_type": "stream",
     "text": [
      "✅ Saved as .dat: ../data/eas/downsample_factor_10/Parker_binary_0.dat\n",
      "✅ Saved as .npy: ../data/eas/downsample_factor_10/Parker_binary_0_transformed.npy\n",
      "   Shape: (99, 99, 100), Type: float64\n",
      "✅ Saved as .dat: ../data/eas/downsample_factor_10/Parker_binary_1.dat\n",
      "✅ Saved as .npy: ../data/eas/downsample_factor_10/Parker_binary_1_transformed.npy\n",
      "   Shape: (99, 99, 100), Type: float64\n",
      "✅ Saved as .dat: ../data/eas/downsample_factor_10/Parker_binary_2.dat\n",
      "✅ Saved as .npy: ../data/eas/downsample_factor_10/Parker_binary_2_transformed.npy\n",
      "   Shape: (99, 99, 100), Type: float64\n",
      "✅ Saved as .dat: ../data/eas/downsample_factor_10/Parker_binary_3.dat\n",
      "✅ Saved as .npy: ../data/eas/downsample_factor_10/Parker_binary_3_transformed.npy\n",
      "   Shape: (99, 99, 100), Type: float64\n",
      "✅ Saved as .dat: ../data/eas/downsample_factor_10/Parker_binary_4.dat\n",
      "✅ Saved as .npy: ../data/eas/downsample_factor_10/Parker_binary_4_transformed.npy\n",
      "   Shape: (99, 99, 100), Type: float64\n"
     ]
    }
   ],
   "source": [
    "downsample_factor = 10\n",
    "\n",
    "# Create folder for the downsample factor\n",
    "eas_folder = f\"../data/eas/downsample_factor_{downsample_factor}\"\n",
    "os.makedirs(eas_folder, exist_ok=True)\n",
    "\n",
    "# Save each slice in both .dat and .npy formats\n",
    "for i in range(5):  # Take 5 slices with 100 jump between them\n",
    "    slice_index = i * 100\n",
    "    data_slice = binary_data[slice_index]\n",
    "    output_path = f\"{eas_folder}/Parker_binary_{i}\"\n",
    "\n",
    "    # This saves both .dat and .npy files\n",
    "    dat_path, npy_path, npy_trasnformed_path = save_binary_as_ti_and_npy(data_slice, output_path, downsample_factor)"
   ]
  },
  {
   "cell_type": "markdown",
   "id": "9d63824a",
   "metadata": {},
   "source": [
    "The inspiration to this treatment for the data is the strebelle example used in ex01_mpslib_getting_started"
   ]
  }
 ],
 "metadata": {
  "kernelspec": {
   "display_name": "Python 3",
   "language": "python",
   "name": "python3"
  },
  "language_info": {
   "codemirror_mode": {
    "name": "ipython",
    "version": 3
   },
   "file_extension": ".py",
   "mimetype": "text/x-python",
   "name": "python",
   "nbconvert_exporter": "python",
   "pygments_lexer": "ipython3",
   "version": "3.10.12"
  }
 },
 "nbformat": 4,
 "nbformat_minor": 5
}
