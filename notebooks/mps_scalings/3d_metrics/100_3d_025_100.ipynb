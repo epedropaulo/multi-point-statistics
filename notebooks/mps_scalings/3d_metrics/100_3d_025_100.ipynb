{
 "cells": [
  {
   "cell_type": "code",
   "execution_count": 1,
   "id": "352ba7d4",
   "metadata": {},
   "outputs": [],
   "source": [
    "import sys\n",
    "import os\n",
    "\n",
    "project_root = os.path.abspath(os.path.join(os.getcwd(), '../../../../'))\n",
    "sys.path.insert(0, project_root)"
   ]
  },
  {
   "cell_type": "code",
   "execution_count": 2,
   "id": "4f3ab23e",
   "metadata": {},
   "outputs": [
    {
     "data": {
      "text/html": [
       "<pre style=\"white-space:pre;overflow-x:auto;line-height:normal;font-family:Menlo,'DejaVu Sans Mono',consolas,'Courier New',monospace\"><span style=\"color: #7fbfbf; text-decoration-color: #7fbfbf\">[13:37:09] </span><span style=\"color: #800000; text-decoration-color: #800000; font-weight: bold\">ERROR   </span> PARDISO solver not installed, run `pip install pypardiso`. Otherwise,          <a href=\"file:///home/lcadame/miniconda3/envs/ddpm_env/lib/python3.12/site-packages/openpnm/utils/_workspace.py\" target=\"_blank\"><span style=\"color: #7f7f7f; text-decoration-color: #7f7f7f\">_workspace.py</span></a><span style=\"color: #7f7f7f; text-decoration-color: #7f7f7f\">:</span><a href=\"file:///home/lcadame/miniconda3/envs/ddpm_env/lib/python3.12/site-packages/openpnm/utils/_workspace.py#56\" target=\"_blank\"><span style=\"color: #7f7f7f; text-decoration-color: #7f7f7f\">56</span></a>\n",
       "<span style=\"color: #7fbfbf; text-decoration-color: #7fbfbf\">           </span>         simulations will be slow. Apple M chips not supported.                         <span style=\"color: #7f7f7f; text-decoration-color: #7f7f7f\">                </span>\n",
       "</pre>\n"
      ],
      "text/plain": [
       "\u001b[2;36m[13:37:09]\u001b[0m\u001b[2;36m \u001b[0m\u001b[1;31mERROR   \u001b[0m PARDISO solver not installed, run `pip install pypardiso`. Otherwise,          \u001b]8;id=581651;file:///home/lcadame/miniconda3/envs/ddpm_env/lib/python3.12/site-packages/openpnm/utils/_workspace.py\u001b\\\u001b[2m_workspace.py\u001b[0m\u001b]8;;\u001b\\\u001b[2m:\u001b[0m\u001b]8;id=710466;file:///home/lcadame/miniconda3/envs/ddpm_env/lib/python3.12/site-packages/openpnm/utils/_workspace.py#56\u001b\\\u001b[2m56\u001b[0m\u001b]8;;\u001b\\\n",
       "\u001b[2;36m           \u001b[0m         simulations will be slow. Apple M chips not supported.                         \u001b[2m                \u001b[0m\n"
      ]
     },
     "metadata": {},
     "output_type": "display_data"
    },
    {
     "name": "stderr",
     "output_type": "stream",
     "text": [
      "/home/lcadame/miniconda3/envs/ddpm_env/lib/python3.12/site-packages/tqdm/auto.py:21: TqdmWarning: IProgress not found. Please update jupyter and ipywidgets. See https://ipywidgets.readthedocs.io/en/stable/user_install.html\n",
      "  from .autonotebook import tqdm as notebook_tqdm\n",
      "/home/lcadame/repos/PoreGen/poregen/features/permeability_from_lbm.py:12: UserWarning: Could not import lettuce. Some functionality may be limited.\n",
      "  warnings.warn(\"Could not import lettuce. Some functionality may be limited.\")\n"
     ]
    }
   ],
   "source": [
    "import poregen.features\n",
    "\n",
    "import torch\n",
    "import numpy as np\n",
    "import matplotlib.pyplot as plt"
   ]
  },
  {
   "cell_type": "code",
   "execution_count": 3,
   "id": "1882be88",
   "metadata": {},
   "outputs": [],
   "source": [
    "data = np.load(\"/home/lcadame/repos/multi-point-statistics/notebooks/mps_scalings/simulated_data/sim000.npy\")"
   ]
  },
  {
   "cell_type": "code",
   "execution_count": 4,
   "id": "2cdcfebb",
   "metadata": {},
   "outputs": [],
   "source": [
    "data = torch.tensor(data).unsqueeze(0)"
   ]
  },
  {
   "cell_type": "code",
   "execution_count": 22,
   "id": "f0c95460",
   "metadata": {},
   "outputs": [],
   "source": [
    "porosity = poregen.features.feature_extractors.PorosityExtractor()\n",
    "permeability = poregen.features.feature_extractors.PermeabilityExtractor(voxel_length=1e-6)\n",
    "surface_area_density = poregen.features.feature_extractors.SurfaceAreaDensityExtractor(voxel_size=1e-6)\n",
    "euler_number_density = poregen.features.feature_extractors.EulerNumberDensityExtractor(voxel_size=1e-6)"
   ]
  },
  {
   "cell_type": "code",
   "execution_count": 27,
   "id": "6e16f00a",
   "metadata": {},
   "outputs": [],
   "source": [
    "all_features = poregen.features.feature_extractors.CompositeExtractor(\n",
    "    [porosity, permeability, surface_area_density, euler_number_density]\n",
    ")"
   ]
  },
  {
   "cell_type": "code",
   "execution_count": 28,
   "id": "52bef614",
   "metadata": {},
   "outputs": [
    {
     "data": {
      "text/html": [
       "<pre style=\"white-space:pre;overflow-x:auto;line-height:normal;font-family:Menlo,'DejaVu Sans Mono',consolas,'Courier New',monospace\"><span style=\"color: #7fbfbf; text-decoration-color: #7fbfbf\">[13:42:53] </span><span style=\"color: #800000; text-decoration-color: #800000\">WARNING </span> throat.entry_pressure was not run since the following property is missing:       <a href=\"file:///home/lcadame/miniconda3/envs/ddpm_env/lib/python3.12/site-packages/openpnm/core/_models.py\" target=\"_blank\"><span style=\"color: #7f7f7f; text-decoration-color: #7f7f7f\">_models.py</span></a><span style=\"color: #7f7f7f; text-decoration-color: #7f7f7f\">:</span><a href=\"file:///home/lcadame/miniconda3/envs/ddpm_env/lib/python3.12/site-packages/openpnm/core/_models.py#480\" target=\"_blank\"><span style=\"color: #7f7f7f; text-decoration-color: #7f7f7f\">480</span></a>\n",
       "<span style=\"color: #7fbfbf; text-decoration-color: #7fbfbf\">           </span>         <span style=\"color: #008000; text-decoration-color: #008000\">'throat.surface_tension'</span>                                                         <span style=\"color: #7f7f7f; text-decoration-color: #7f7f7f\">              </span>\n",
       "</pre>\n"
      ],
      "text/plain": [
       "\u001b[2;36m[13:42:53]\u001b[0m\u001b[2;36m \u001b[0m\u001b[31mWARNING \u001b[0m throat.entry_pressure was not run since the following property is missing:       \u001b]8;id=979191;file:///home/lcadame/miniconda3/envs/ddpm_env/lib/python3.12/site-packages/openpnm/core/_models.py\u001b\\\u001b[2m_models.py\u001b[0m\u001b]8;;\u001b\\\u001b[2m:\u001b[0m\u001b]8;id=361557;file:///home/lcadame/miniconda3/envs/ddpm_env/lib/python3.12/site-packages/openpnm/core/_models.py#480\u001b\\\u001b[2m480\u001b[0m\u001b]8;;\u001b\\\n",
       "\u001b[2;36m           \u001b[0m         \u001b[32m'throat.surface_tension'\u001b[0m                                                         \u001b[2m              \u001b[0m\n"
      ]
     },
     "metadata": {},
     "output_type": "display_data"
    },
    {
     "data": {
      "text/plain": [
       "{'porosity': tensor([0.1652]),\n",
       " 'permeability': tensor([0.0094, 0.0032, 0.0010]),\n",
       " 'surface_area_density': tensor([55334.0508]),\n",
       " 'mean_curvature': tensor([0.1142]),\n",
       " 'euler_number_density': tensor([2.6000e+13])}"
      ]
     },
     "execution_count": 28,
     "metadata": {},
     "output_type": "execute_result"
    }
   ],
   "source": [
    "all_features(data)"
   ]
  },
  {
   "cell_type": "code",
   "execution_count": 24,
   "id": "4dccb829",
   "metadata": {},
   "outputs": [
    {
     "name": "stdout",
     "output_type": "stream",
     "text": [
      "\u001b[0;31mInit signature:\u001b[0m\n",
      "\u001b[0mporegen\u001b[0m\u001b[0;34m.\u001b[0m\u001b[0mfeatures\u001b[0m\u001b[0;34m.\u001b[0m\u001b[0mfeature_extractors\u001b[0m\u001b[0;34m.\u001b[0m\u001b[0mPermeabilityExtractor\u001b[0m\u001b[0;34m(\u001b[0m\u001b[0;34m\u001b[0m\n",
      "\u001b[0;34m\u001b[0m    \u001b[0mvoxel_length\u001b[0m\u001b[0;34m:\u001b[0m \u001b[0mfloat\u001b[0m \u001b[0;34m=\u001b[0m \u001b[0;36m2.25e-06\u001b[0m\u001b[0;34m,\u001b[0m\u001b[0;34m\u001b[0m\n",
      "\u001b[0;34m\u001b[0m    \u001b[0;34m**\u001b[0m\u001b[0mkwargs\u001b[0m\u001b[0;34m,\u001b[0m\u001b[0;34m\u001b[0m\n",
      "\u001b[0;34m\u001b[0m\u001b[0;34m)\u001b[0m\u001b[0;34m\u001b[0m\u001b[0;34m\u001b[0m\u001b[0m\n",
      "\u001b[0;31mDocstring:\u001b[0m      Extract permeability using pore network modeling.\n",
      "\u001b[0;31mFile:\u001b[0m           ~/repos/PoreGen/poregen/features/feature_extractors.py\n",
      "\u001b[0;31mType:\u001b[0m           ABCMeta\n",
      "\u001b[0;31mSubclasses:\u001b[0m     "
     ]
    }
   ],
   "source": [
    "poregen.features.feature_extractors.PermeabilityExtractor?"
   ]
  },
  {
   "cell_type": "code",
   "execution_count": 15,
   "id": "9d164b4c",
   "metadata": {},
   "outputs": [
    {
     "name": "stdout",
     "output_type": "stream",
     "text": [
      "\u001b[0;31mInit signature:\u001b[0m\n",
      "\u001b[0mporegen\u001b[0m\u001b[0;34m.\u001b[0m\u001b[0mfeatures\u001b[0m\u001b[0;34m.\u001b[0m\u001b[0mfeature_extractors\u001b[0m\u001b[0;34m.\u001b[0m\u001b[0mSurfaceAreaDensityExtractor\u001b[0m\u001b[0;34m(\u001b[0m\u001b[0;34m\u001b[0m\n",
      "\u001b[0;34m\u001b[0m    \u001b[0mvoxel_size\u001b[0m\u001b[0;34m:\u001b[0m \u001b[0mfloat\u001b[0m \u001b[0;34m=\u001b[0m \u001b[0;36m1.0\u001b[0m\u001b[0;34m,\u001b[0m\u001b[0;34m\u001b[0m\n",
      "\u001b[0;34m\u001b[0m    \u001b[0;34m**\u001b[0m\u001b[0mkwargs\u001b[0m\u001b[0;34m,\u001b[0m\u001b[0;34m\u001b[0m\n",
      "\u001b[0;34m\u001b[0m\u001b[0;34m)\u001b[0m\u001b[0;34m\u001b[0m\u001b[0;34m\u001b[0m\u001b[0m\n",
      "\u001b[0;31mDocstring:\u001b[0m      Extract surface area density and mean curvature.\n",
      "\u001b[0;31mFile:\u001b[0m           ~/repos/PoreGen/poregen/features/feature_extractors.py\n",
      "\u001b[0;31mType:\u001b[0m           ABCMeta\n",
      "\u001b[0;31mSubclasses:\u001b[0m     "
     ]
    }
   ],
   "source": [
    "poregen.features.feature_extractors.SurfaceAreaDensityExtractor?"
   ]
  },
  {
   "cell_type": "code",
   "execution_count": 21,
   "id": "62cb7e6d",
   "metadata": {},
   "outputs": [
    {
     "name": "stdout",
     "output_type": "stream",
     "text": [
      "\u001b[0;31mInit signature:\u001b[0m\n",
      "\u001b[0mporegen\u001b[0m\u001b[0;34m.\u001b[0m\u001b[0mfeatures\u001b[0m\u001b[0;34m.\u001b[0m\u001b[0mfeature_extractors\u001b[0m\u001b[0;34m.\u001b[0m\u001b[0mEulerNumberDensityExtractor\u001b[0m\u001b[0;34m(\u001b[0m\u001b[0;34m\u001b[0m\n",
      "\u001b[0;34m\u001b[0m    \u001b[0mvoxel_size\u001b[0m\u001b[0;34m:\u001b[0m \u001b[0mfloat\u001b[0m \u001b[0;34m=\u001b[0m \u001b[0;36m1.0\u001b[0m\u001b[0;34m,\u001b[0m\u001b[0;34m\u001b[0m\n",
      "\u001b[0;34m\u001b[0m    \u001b[0mmode\u001b[0m\u001b[0;34m:\u001b[0m \u001b[0mstr\u001b[0m \u001b[0;34m=\u001b[0m \u001b[0;34m'voxel'\u001b[0m\u001b[0;34m,\u001b[0m\u001b[0;34m\u001b[0m\n",
      "\u001b[0;34m\u001b[0m    \u001b[0;34m**\u001b[0m\u001b[0mkwargs\u001b[0m\u001b[0;34m,\u001b[0m\u001b[0;34m\u001b[0m\n",
      "\u001b[0;34m\u001b[0m\u001b[0;34m)\u001b[0m\u001b[0;34m\u001b[0m\u001b[0;34m\u001b[0m\u001b[0m\n",
      "\u001b[0;31mDocstring:\u001b[0m      Extract Euler number density.\n",
      "\u001b[0;31mFile:\u001b[0m           ~/repos/PoreGen/poregen/features/feature_extractors.py\n",
      "\u001b[0;31mType:\u001b[0m           ABCMeta\n",
      "\u001b[0;31mSubclasses:\u001b[0m     "
     ]
    }
   ],
   "source": [
    "poregen.features.feature_extractors.EulerNumberDensityExtractor?"
   ]
  },
  {
   "cell_type": "code",
   "execution_count": null,
   "id": "f11d4b9a",
   "metadata": {},
   "outputs": [],
   "source": []
  }
 ],
 "metadata": {
  "kernelspec": {
   "display_name": "ddpm_env",
   "language": "python",
   "name": "python3"
  },
  "language_info": {
   "codemirror_mode": {
    "name": "ipython",
    "version": 3
   },
   "file_extension": ".py",
   "mimetype": "text/x-python",
   "name": "python",
   "nbconvert_exporter": "python",
   "pygments_lexer": "ipython3",
   "version": "3.12.4"
  }
 },
 "nbformat": 4,
 "nbformat_minor": 5
}
